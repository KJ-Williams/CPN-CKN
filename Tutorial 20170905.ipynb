{
 "cells": [
  {
   "cell_type": "markdown",
   "metadata": {},
   "source": [
    "# 1\n",
    "At 500K the initial rate of a certain reaction occurring in a batch reactor is ten times the initial rate at 400K. Will the rate ratio of 10:1 stay constant as the composition changes in the reactor? What is the activation energy of this reaction? [38.29 kJ/mol]"
   ]
  },
  {
   "cell_type": "markdown",
   "metadata": {},
   "source": [
    "# 2\n",
    "A reaction with stoichiometric equation $2A + B \\to R + 2S$ has the following rate expression\n",
    "$$-r_A = 2 C_A^{0.5} CB$$\n",
    "What is the rate expression for this reaction if the stoicheometric equation is written as \n",
    "\n",
    "$A + 0.5B \\to 0.5R + S$ ?"
   ]
  },
  {
   "cell_type": "markdown",
   "metadata": {},
   "source": [
    "# 3\n",
    "The following catalysed liquid reaction occurs in a constant volume batch reactor:\n",
    "$$A \\to B+3C$$\n",
    "The rate constant at 100°C is gives as 0.2 $l.gkat^{-1}min^{-1}$. The initial concentration (t=0) of A is 12 mol/l.\n",
    "\n",
    "    a) If 2 gram of catalyst is added to 3l of reaction mixture, how long will it take to convert 50% of A. [5.2 min]\n",
    "    b) How long will it take to convert 50% if 4 gram of catalyst is used? [2.6 min]\n",
    "    c) How long will it take to convert 100% of A?\n",
    "    d) If A is diluted with water so that the initial concentration of A is 6 mol/l, what conversion will be obtained after 2.6 minutes (using 4 gram of catalyst)? [50%]\n",
    "    e) If the reaction was second order with the same value rate constant, what will the units of the rate constant be?, what will be the answer to (b)?, what will be the answer to (d) if you use 0.31 min instead of 2.6 min? [l2mol-1g-1min-1 , 0.31 min , 33%]\n",
    "    f) For problem (a), what is the expression of –rA (liter based rate)? [$-r_A = 0.133C_A$]\n",
    "\n",
    "**Make sure you have made the following observation:**\n",
    "\n",
    "Conversion of a first order reaction is independent of the initial reactant concentration. This is not the case for a second order reaction!"
   ]
  },
  {
   "cell_type": "markdown",
   "metadata": {},
   "source": [
    "# 4\n",
    "The following elementary reaction:\n",
    "$$A+B \\to C $$\n",
    "has a rate constant of 0.1 $l.mol^{-1}hr^{-1}$ and an equimolar initial feed of 5 mol/l of A and 5 mol/l of B.\n",
    "\n",
    "    a) Use Python to obtain the time required to convert 30% of A. [51.4 min]\n",
    "    b) If the initial concentration of A stays 5 mol/l and the initial concentration of B becomes 7.5 mol/l, how long does it take to convert 30% of A? [32 min]"
   ]
  },
  {
   "cell_type": "markdown",
   "metadata": {},
   "source": [
    "# 5\n",
    "The following reaction was studied in a laboratory batch reactor:\n",
    "$$A\\to2B$$\n",
    "The initial concentration of A was 2 mol/l and the initial concentration of B was 1 mol/l (for all the experiments). You can assume that the volume of the reaction does not change. Three reactor runs were performed at temperatures of 25°C, 35°C and 45°C (temperature stayed constant throughout the run). The following results were obtained:\n",
    "\n",
    "|Time (minutes)|Conc of B (mol/l) 25°C|Conc of B (mol/l) 35°C|Conc of B (mol/l) 45°C|\n",
    "|---|---|---|---|\n",
    "|0.00|1.00|1.00|1.00|\n",
    "|1.00|1.85|2.20|2.61|\n",
    "|2.00|2.53|3.04|3.57|\n",
    "|3.00|3.05|3.63|4.15|\n",
    "|4.00|3.47|4.04|4.49|\n",
    "|6.00|4.05|4.53|4.82|\n",
    "|10.00|4.64|4.89|4.98|\n",
    "|200|5|5|5|\n",
    "\n",
    "Is the reaction reversible or not? How long will it take to achieve a 50% conversion of A, if the same reactor is operated at 75°C and when we start with 4 mol/l of A and no B. [0.5 min, E=30kJ/mol]"
   ]
  },
  {
   "cell_type": "markdown",
   "metadata": {},
   "source": [
    "# 6\n",
    "The following catalysed reaction is studied in a constant volume batch reactor:\n",
    "$$ A+2B \\to C$$\n",
    "The initial concentration of A is 2 mol/l and the initial concentration of B is 5 mol/l. The catalyst concentration is 2 g/l. The following experimental results were obtained:\n",
    "\n",
    "|t (min)|$C_A$ (mol/L)|\n",
    "|---|---|\n",
    "|0|2.00|\n",
    "|1|1.34|\n",
    "|2|0.91|\n",
    "|3|0.74|\n",
    "|4|0.56|\n",
    "|5|0.45|\n",
    "|6|0.40|\n",
    "|7|0.33|\n",
    "|8|0.27|\n",
    "|9|0.23|\n",
    "|10|0.21|\n",
    "What is the rate expression in terms of the mass of catalyst? (k=0.1 l/g/min)"
   ]
  },
  {
   "cell_type": "markdown",
   "metadata": {},
   "source": [
    "# 7\n",
    "\n",
    "For the following gas phase reaction in a constant volume batch reactor:\n",
    "$$ A + 3B -> 4P + 6R $$\n",
    "The initial pressure is 3 bar with 20% A, 50% B and 30% inert.\n",
    "a) Will you define conversion with respect to A or B, why?\n",
    "b) What is the total pressure in the reactor at 40% conversion of B? [4.2 bar]\n",
    "c) What is the partial pressure of A at a 30% conversion of B? [0.45 bar]"
   ]
  },
  {
   "cell_type": "markdown",
   "metadata": {},
   "source": [
    "# 8\n",
    "A small reaction bomb fitted with a sensitive pressure-measuring device is flushed out and filled with a mixture at 76,94% reactant A and 23,06% inert at 1 atm pressure and 14°C, a temperature low enough that the reaction does not proceed to any appreciable extent.\n",
    "\n",
    "|Time, min|Total pressure, atm.|\n",
    "|---|---|\n",
    "|0.5|1.5|\n",
    "|1|1.65|\n",
    "|1.5|1.76|\n",
    "|2|1.84|\n",
    "|2.5|1.90|\n",
    "|3|1.95|\n",
    "|3.5|1.99|\n",
    "|4|2.025|\n",
    "|5|2.08|\n",
    "|6|2.12|\n",
    "|7|2.15|\n",
    "|8|2.175|\n",
    "\n",
    "The temperature is raised rapidly to 100°C, and the readings in the table are obtained. The stoicheometry of the reaction is \n",
    "$$A \\to 2R$$ and after sufficient time the reaction proceeds to completion. Find a rate equation in units of moles, liters and minutes which will satisfactorily fit the data. [$k_1= 2.5 units?$]"
   ]
  }
 ],
 "metadata": {
  "kernelspec": {
   "display_name": "Python [Root]",
   "language": "python",
   "name": "Python [Root]"
  },
  "language_info": {
   "codemirror_mode": {
    "name": "ipython",
    "version": 3
   },
   "file_extension": ".py",
   "mimetype": "text/x-python",
   "name": "python",
   "nbconvert_exporter": "python",
   "pygments_lexer": "ipython3",
   "version": "3.5.2"
  }
 },
 "nbformat": 4,
 "nbformat_minor": 0
}
