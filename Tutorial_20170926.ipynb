{
 "cells": [
  {
   "cell_type": "markdown",
   "metadata": {},
   "source": [
    "# 1\n",
    "At 500K the initial rate of a certain reaction occurring in a batch reactor is ten times the initial rate at 400K. Will the rate ratio of 10:1 stay constant as the composition changes in the reactor? What is the activation energy of this reaction? [38.29 kJ/mol]"
   ]
  },
  {
   "cell_type": "markdown",
   "metadata": {},
   "source": [
    "# 2\n",
    "A reaction with stoichiometric equation $2A + B \\to R + 2S$ has the following rate expression\n",
    "$$-r_A = 2 C_A^{0.5} CB$$\n",
    "What is the rate expression for this reaction if the stoicheometric equation is written as \n",
    "\n",
    "$A + 0.5B \\to 0.5R + S$ ?"
   ]
  },
  {
   "cell_type": "markdown",
   "metadata": {},
   "source": [
    "# 3\n",
    "The following catalysed liquid reaction occurs in a constant volume batch reactor:\n",
    "$$A \\to B+3C$$\n",
    "The rate constant at 100°C is gives as 0.2 $l.gkat^{-1}min^{-1}$. The initial concentration (t=0) of A is 12 mol/l.\n",
    "\n",
    "    a) If 2 gram of catalyst is added to 3l of reaction mixture, how long will it take to convert 50% of A. [5.2 min]\n",
    "    b) How long will it take to convert 50% if 4 gram of catalyst is used? [2.6 min]\n",
    "    c) How long will it take to convert 100% of A?\n",
    "    d) If A is diluted with water so that the initial concentration of A is 6 mol/l, what conversion will be obtained after 2.6 minutes (using 4 gram of catalyst)? [50%]\n",
    "    e) If the reaction was second order with the same value rate constant, what will the units of the rate constant be?, what will be the answer to (b)?, what will be the answer to (d) if you use 0.31 min instead of 2.6 min? [l2mol-1g-1min-1 , 0.31 min , 33%]\n",
    "    f) For problem (a), what is the expression of –rA (liter based rate)? [$-r_A = 0.133C_A$]\n",
    "\n",
    "**Make sure you have made the following observation:**\n",
    "\n",
    "Conversion of a first order reaction is independent of the initial reactant concentration. This is not the case for a second order reaction!"
   ]
  },
  {
   "cell_type": "markdown",
   "metadata": {},
   "source": [
    "# 4\n",
    "The following elementary reaction:\n",
    "$$A+B \\to C $$\n",
    "has a rate constant of 0.1 $l.mol^{-1}hr^{-1}$ and an equimolar initial feed of 5 mol/l of A and 5 mol/l of B.\n",
    "\n",
    "    a) Use Python to obtain the time required to convert 30% of A. [51.4 min]\n",
    "    b) If the initial concentration of A stays 5 mol/l and the initial concentration of B becomes 7.5 mol/l, how long does it take to convert 30% of A? [32 min]"
   ]
  },
  {
   "cell_type": "markdown",
   "metadata": {},
   "source": [
    "# 5\n",
    "The following reaction was studied in a laboratory batch reactor:\n",
    "$$A\\to2B$$\n",
    "The initial concentration of A was 2 mol/l and the initial concentration of B was 1 mol/l (for all the experiments). You can assume that the volume of the reaction does not change. Three reactor runs were performed at temperatures of 25°C, 35°C and 45°C (temperature stayed constant throughout the run). The following results were obtained:\n",
    "\n",
    "|Time (minutes)|Conc of B (mol/l) 25°C|Conc of B (mol/l) 35°C|Conc of B (mol/l) 45°C|\n",
    "|---|---|---|---|\n",
    "|0.00|1.00|1.00|1.00|\n",
    "|1.00|1.85|2.20|2.61|\n",
    "|2.00|2.53|3.04|3.57|\n",
    "|3.00|3.05|3.63|4.15|\n",
    "|4.00|3.47|4.04|4.49|\n",
    "|6.00|4.05|4.53|4.82|\n",
    "|10.00|4.64|4.89|4.98|\n",
    "|200|5|5|5|\n",
    "\n",
    "Is the reaction reversible or not? How long will it take to achieve a 50% conversion of A, if the same reactor is operated at 75°C and when we start with 4 mol/l of A and no B. [0.5 min, E=30kJ/mol]"
   ]
  },
  {
   "cell_type": "markdown",
   "metadata": {},
   "source": [
    "# 6\n",
    "The following catalysed reaction is studied in a constant volume batch reactor:\n",
    "$$ A+2B \\to C$$\n",
    "The initial concentration of A is 2 mol/l and the initial concentration of B is 5 mol/l. The catalyst concentration is 2 g/l. The following experimental results were obtained:\n",
    "\n",
    "|t (min)|$C_A$ (mol/L)|\n",
    "|---|---|\n",
    "|0|2.00|\n",
    "|1|1.34|\n",
    "|2|0.91|\n",
    "|3|0.74|\n",
    "|4|0.56|\n",
    "|5|0.45|\n",
    "|6|0.40|\n",
    "|7|0.33|\n",
    "|8|0.27|\n",
    "|9|0.23|\n",
    "|10|0.21|\n",
    "What is the rate expression in terms of the mass of catalyst? (k=0.1 l/mol/min)"
   ]
  },
  {
   "cell_type": "markdown",
   "metadata": {},
   "source": [
    "# 7\n",
    "\n",
    "For the following gas phase reaction in a constant volume batch reactor:\n",
    "$$ A + 3B -> 4P + 6R $$\n",
    "The initial pressure is 3 bar with 20% A, 50% B and 30% inert.\n",
    "a) Will you define conversion with respect to A or B, why?\n",
    "b) What is the total pressure in the reactor at 40% conversion of B? [4.2 bar]\n",
    "c) What is the partial pressure of A at a 30% conversion of B? [0.45 bar]"
   ]
  },
  {
   "cell_type": "markdown",
   "metadata": {},
   "source": [
    "# 8\n",
    "A small reaction bomb fitted with a sensitive pressure-measuring device is flushed out and filled with a mixture at 76,94% reactant A and 23,06% inert at 1 atm pressure and 14°C, a temperature low enough that the reaction does not proceed to any appreciable extent.\n",
    "\n",
    "|Time, min|Total pressure, atm.|\n",
    "|---|---|\n",
    "|0.5|1.5|\n",
    "|1|1.65|\n",
    "|1.5|1.76|\n",
    "|2|1.84|\n",
    "|2.5|1.90|\n",
    "|3|1.95|\n",
    "|3.5|1.99|\n",
    "|4|2.025|\n",
    "|5|2.08|\n",
    "|6|2.12|\n",
    "|7|2.15|\n",
    "|8|2.175|\n",
    "\n",
    "The temperature is raised rapidly to 100°C, and the readings in the table are obtained. The stoicheometry of the reaction is \n",
    "$$A \\to 2R$$ and after sufficient time the reaction proceeds to completion. Find a rate equation in units of moles, liters and minutes which will satisfactorily fit the data. [$k_1= 2.5 units?$]"
   ]
  },
  {
   "cell_type": "markdown",
   "metadata": {},
   "source": [
    "# 9\n",
    "\n",
    "The aqueous reaction $ A \\to R + S $ proceeds as follows:\n",
    "\n",
    "|Time, min|0|36|65|100|160|$\\infty$|\n",
    "|---|---|---|---|---|---|---|\n",
    "|$C_A$, mol/L|0.1823|0.1453|0.1216|0.1025|0.0795|0.0494|\n",
    "\n",
    "with\n",
    "\n",
    "$C_{A0}$ = 0.1823 mol/l,\n",
    "\n",
    "$C_{R0}$ = 0,\n",
    "\n",
    "$C_{S0}$ = 55 mol/l.\n",
    "\n",
    "Find the rate equation for this reaction. [$-r_A = 6.76\\times 10^{-3}$ $CA - 4.54\\times 10^{-5} C_RC_S$]\n",
    "\n",
    "\n"
   ]
  },
  {
   "cell_type": "markdown",
   "metadata": {},
   "source": [
    "# 10\n",
    "Hellin and Jungers (1957) present the data in the table on the reaction of sulphuric acid with diethylsulphate in aqueous solution at 22,9°C:\n",
    "\n",
    "$$ H_2SO_4 + (C_2H_5)_2SO_4 \\to 2C_2H_5SO_4H$$\n",
    "\n",
    "<img src=\"Tut 10.png\" width=\"500px\">\n",
    "\n",
    "Initial concentrations of $H_2SO_4$ and $(C_2H_5)_2SO_4$ are each 5,5 mol/ℓ.  Find a rate equation for this reaction. [$k_1 = 6.7 \\times 10^{-4}$ l/mol.min, Kc = 5]"
   ]
  },
  {
   "cell_type": "markdown",
   "metadata": {},
   "source": [
    "# 11\n",
    "Q2T12007 "
   ]
  },
  {
   "cell_type": "markdown",
   "metadata": {},
   "source": [
    "# 12\n",
    "\n",
    "Q2T12006"
   ]
  },
  {
   "cell_type": "markdown",
   "metadata": {},
   "source": [
    "# 13\n",
    "\n",
    "Test 1 2016\n",
    "\n",
    "Question 2\t\t\t\t\t\t\t\t\t\t\t [15]\n",
    "\n",
    "A gas phase reversible reaction ($A + B \\leftrightharpoons 3C$) was studied in a constant pressure piston reactor at different temperatures and the following equilibrium results were obtained:\n",
    "\n",
    "Temperature (°C)|\t$p_A$ (kPa)|\t$p_B$ (kPa)|\t$p_C$ (kPa)\n",
    "---|---|---|---\n",
    "100|\t3.10|\t6.20|\t$3.91×10^2$\n",
    "200|\t$1.75×10^1$|\t$2.07×10^1$|\t$3.62×10^2$\n",
    "300|\t$4.11×10^1$|\t$4.45×10^1$|\t$3.15×10^2$\n",
    "\n",
    "a)\tIs the reaction exothermic or endothermic?\t(3)\n",
    "\n",
    "b)\tDetermine the enthalpy change of the reaction (ΔH) in kJ/mol\t(5)\n",
    "\n",
    "c)\tGiven the following information:\n",
    "\n",
    "$V_o$ (L) =\t1  \n",
    "\n",
    "P (bar)  =\t4\n",
    "\n",
    "$N_{Ao}$ = 0.4 $N_{to}$\n",
    "\n",
    "$N_{Bo}$ =\t0.55 $N_{to}$\n",
    "\n",
    "$N_{Co}$ =\t0.05 $N_{to}$\n",
    "\n",
    "$k_{o1}$ (forward reaction) =\t$6 × 10^7$ L/(mol.min)\n",
    "\n",
    "$E_1$ (forward reaction) =\t60 kJ/mol\n",
    "\n",
    "    i.\tDetermine the equilibrium conversion of A at a temperature of 236 °C, it can be assumed that the volume and pressure in the table applies to the system at this temperature.\t\n",
    "    ii.\tDetermine the time it takes to reach 99% of the equilibrium value of A\t(7)\n"
   ]
  },
  {
   "cell_type": "markdown",
   "metadata": {},
   "source": [
    "# 14\n",
    "\n",
    "For the liquid reaction in series:\n",
    "$$ A \\to B \\to C $$\n",
    "The following concentrations profiles were obtained in a batch reactor where pure A was initially loaded into  the reactor. Component A has a molar density of 5 mol/l.\n",
    "\n",
    "Time (min)|\tConcentration of A (mol/l)|\tConcentration of B (mol/l)\n",
    "---|---|---\n",
    "1|\t4.23|\t0.82\n",
    "2|\t3.46|\t1.39\n",
    "3|\t2.98|\t1.83\n",
    "4|\t2.49|\t2.07\n",
    "5|\t2.02|\t2.15\n",
    "7|\t1.44|\t2.27\n",
    "9|\t1.01|\t2.07\n",
    "11|\t0.68|\t1.89\n",
    "16|\t0.29|\t1.49\n",
    "32|\t0.02|\t0.69\n",
    "\n",
    "\n",
    "•\tWhat is the concentration of component A at time = 0?   \t\t\n",
    "•\tObtain the rate expressions for this reaction  [k1=0.18?/min, k2= 0.060?/min]\n",
    "\t\t\n",
    "\n",
    "\n"
   ]
  },
  {
   "cell_type": "markdown",
   "metadata": {},
   "source": [
    "# 15\n",
    "\n",
    "For two irreversible reactions in parallel with the same reaction order but different activation energies:\n",
    "$$ A \\to B $$\n",
    "$$ A \\to C $$\n",
    "What will be the effect of temperature on the selectivity of C if the B reaction has a higher activation energy than the C reaction? "
   ]
  },
  {
   "cell_type": "markdown",
   "metadata": {},
   "source": [
    "# 16\n",
    "\n",
    "The first-order homogeneous gaseous decomposition $A \\to2,5 R$ is carried out in an isothermal batch reactor at 2 atm with 20% inerts present, and the volume increases by 60% in 20 min.  In a constant-volume reactor, find the time required for the pressure to reach 8atm if the initial pressure is 5 atm, 2 atm of which consists of inerts. [t=31.7 min]\n",
    "\n",
    "\n"
   ]
  },
  {
   "cell_type": "markdown",
   "metadata": {},
   "source": [
    "# 17\n",
    "\n",
    "A zero-order homogeneous gas reaction $A \\to  rR$ proceeds in a constant-volume bomb, 20% inerts, and the pressure rises from 1 to 1,3 atm in 2 min.  If the same reaction takes place in a constant-pressure batch reactor, what is the fractional volume change in 4 min if the feed is at 3 atm and consists of 40% inerts?   \n",
    "[V/Vo =1.2218]"
   ]
  },
  {
   "cell_type": "markdown",
   "metadata": {},
   "source": [
    "# 18\n",
    "\n",
    "6) Pure gaseous A is prepared under refrigeration and is introduced into a thin-walled capillary which acts as a reaction vessel as shown in the figure. No appreciable reaction occurs during handling.  The reaction vessel is rapidly plunged into a bath of boiling water, reactant A decomposes to completion according to the reaction $A \\to R + S$, and the following data are obtained:\n",
    "\n",
    "\n",
    "Time, min|0.5|1\t|1.5\t|2\t|3\t|4\t|6\t|10\t|1000\n",
    ":---|---:|---:|---:|---:|---:|---:|---:|---:|---:\n",
    "Length of capillary  occupied by reaction mixture, cm\t|6.1\t|6.8\t|7.2\t|7.5\t|7.85\t|8.1\t|8.4\t|8.7|\t9.4\n",
    "\n",
    "<img src=\"T18.png\" width=\"400px\">\n",
    "\n",
    "[$-r_A=12.95C_A^?$]"
   ]
  },
  {
   "cell_type": "markdown",
   "metadata": {},
   "source": [
    "# 19\n",
    "\n",
    "The irreversible gas phase reaction:\n",
    "\n",
    "$$A\\to 4B$$\n",
    " \n",
    "was studied in the following batch reactor setup:\n",
    "\n",
    "<img src=\"T19.png\" width=\"300px\">\n",
    " \n",
    "The reactor operates at constant volume of 25 liters if the pressure in the reactor is less than 2 bar. At 2 bar the pressure switch releases (see sketch), this activates the stopwatch and causes the reactor to operate as a constant pressure reactor (i.e. the piston will move and the reaction volume will change). An experiment was performed starting with 50% A and 50% inerts at 1.3 bar and 118°C at time=to. The following data was generated after the stopwatch got activated :\n",
    " \n",
    "\n",
    "Time - ts (min)|\tV/Vo\n",
    "---|---\n",
    "0|\t1.00\n",
    "1|\t1.10\n",
    "3|\t1.22\n",
    "5|\t1.29\n",
    "7|\t1.34\n",
    "9|\t1.37\n",
    "11|\t1.40\n",
    "13|\t1.42\n",
    "15|\t1.44\n",
    "17|\t1.45\n",
    "\n",
    "a)\tWhat is the composition of the gas mixture when the stopwatch gets activated (at ts=0) [21% 47% 32%]\n",
    "\n",
    "b)\tHow long does it take before the stopwatch gets activated (time from to to ts=0) [1.75 min]\n",
    "\n"
   ]
  },
  {
   "cell_type": "markdown",
   "metadata": {},
   "source": [
    "# 20\n",
    "\n",
    "The following gas phase reactions occurs in a constant pressure batch reactor     (piston reactor).\n",
    "\n",
    "$$ A+2B\\to 30C\\: k_{1A} = 2M^{-2}s^{-1} $$\n",
    "$$ 10C+B\\to 2A\\: k_{2B} = 8M^{-2}s^{-1}\\: (kC_C^2C_B) $$\n",
    "\n",
    "The pressure is set at 2 bar and the temperature remains at 300K. An initial composition of 20% A and 80% B is fed. The first reaction is known to be elementary. Determine the maximum expansion (V/Vo) and the time at which it occurs. (@90 sec V/Vo=1.37)\n"
   ]
  },
  {
   "cell_type": "markdown",
   "metadata": {},
   "source": [
    "# 21\n",
    "Determine the conversion in a CSTR and PFR for the following:\n",
    "Reaction: \n",
    "$$A \\to B$$ irreversible\n",
    "V = 4 liter, Q= 2 l/min, $C_{Ao} = 8 mol/l$, $-r_A = 0.5C_A$\n",
    "Which reactor is best and why? [CSTR – 50%, PFR – 63%]"
   ]
  },
  {
   "cell_type": "markdown",
   "metadata": {},
   "source": [
    "# 22\n",
    "\n",
    "Determine the conversion in a CSTR and PFR for the following:\n",
    "\n",
    "Reaction: \n",
    "$$A+B \\to 2B$$ irreversible (autocatalytic)\n",
    "V = 4 liter, Q = 2 l/min, $C_{Ao} = 7.99 mol/1$, $C_{Bo} = 0.01 mol/1$, $-r_A = 0.125C_AC_B$\n",
    "\n",
    "Which reactor is best and why?\n",
    "\n",
    "What would have happened if we fed only A at CAo = 8 mol/l. [CSTR – 50%, PFR – 0.8%]"
   ]
  },
  {
   "cell_type": "markdown",
   "metadata": {},
   "source": [
    "# 23\n",
    "For the liquid reaction where A is converted into products the rate constant is given as $0.25 l. g^{-1}.min^{-1}$.\n",
    "\n",
    "a) What volume of PFR is needed to convert 60% of A? The catalyst bed density is 800g/l, the volumetric flowrate to the reactor 15 l/min and the intial concentration of A is 5 mol/l (no products are fed). [V=68.8 ml]\n",
    "\n",
    "b) What volume CSTR is needed to convert 60% of A if the same conditions are used? The catalyst concentration is 50g/l. [V=1.8 l]"
   ]
  },
  {
   "cell_type": "markdown",
   "metadata": {},
   "source": [
    "# 24\n",
    "\n",
    "Q1T22010\n",
    "The following liquid phase catalytic reaction:\n",
    "\n",
    "$$ A \\to Product $$\n",
    "is studied in continuous reactor setup consisting out of CSTR followed by a PFR (CSTR-PFR in series). The CSTR contains 400 grams of catalyst and the PFR 300 grams . The rate constant is known to be 0.2 l2/(mol.g.min). The catalyst density in the CSTR is 5 g/l, while the packing density in the PFR is 800 g/l. Given an inlet flowrate to the reactor of 35 l/min with the concentration of A at 1.3 mol/l, determine the following.\n",
    "\n",
    "a) The conversion in the CSTR [2]\n",
    "\n",
    "b) The overall conversion [4]\n",
    "\n",
    "c) The conversion over the PFR (based on the inlet to the PFR) [2]"
   ]
  },
  {
   "cell_type": "markdown",
   "metadata": {},
   "source": [
    "# 25\n",
    "\n",
    "For a first order catalytic reaction where component A converts to products. How much more catalyst does a CSTR require than a PFR to obtain a conversion of 99.99%. Give the answer as a ratio of the two catalyst masses."
   ]
  },
  {
   "cell_type": "markdown",
   "metadata": {},
   "source": [
    "# 26\n",
    "\n",
    "The aqueous decomposition of A is studied in an experimental mixed reactor. The results in the table are obtained in steady-state runs. To obtain 75% conversion of reactant in a feed with CA0 = 0,8 mol/l, what residence time is required:\n",
    "\n",
    "a) in a plug flow reactor [300 s]\n",
    "\n",
    "b) in a mixed flow reactor [1200 s]\n",
    "\n",
    "|Concentration of A, mol/l|Concentration of A, mol/|Residence time, sec|\n",
    "|---|---|---|\n",
    "|In Feed|In Exit||\n",
    "|2.00|0.65|300|\n",
    "|2.00|0.92|240|\n",
    "|2.00|1.00|250|\n",
    "|1.00|0.56|110|\n",
    "|1.00|0.37|360|\n",
    "|0.48|0.42|24|\n",
    "|0.48|0.28|200|\n",
    "|0.48|0.2|560|\n"
   ]
  },
  {
   "cell_type": "markdown",
   "metadata": {},
   "source": [
    "# 27\n",
    "Q3T22010"
   ]
  }
 ],
 "metadata": {
  "anaconda-cloud": {},
  "kernelspec": {
   "display_name": "Python [Root]",
   "language": "python",
   "name": "Python [Root]"
  },
  "language_info": {
   "codemirror_mode": {
    "name": "ipython",
    "version": 3
   },
   "file_extension": ".py",
   "mimetype": "text/x-python",
   "name": "python",
   "nbconvert_exporter": "python",
   "pygments_lexer": "ipython3",
   "version": "3.5.2"
  }
 },
 "nbformat": 4,
 "nbformat_minor": 0
}
